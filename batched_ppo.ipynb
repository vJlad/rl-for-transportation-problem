{
 "cells": [
  {
   "cell_type": "code",
   "execution_count": 1,
   "id": "732eb055-261f-488d-b1ba-83d3976d0ba3",
   "metadata": {},
   "outputs": [],
   "source": [
    "%load_ext autoreload\n",
    "%autoreload 2\n",
    "\n",
    "import tensordict\n",
    "from tensordict import TensorDict\n",
    "import torch\n",
    "import torchrl\n",
    "\n",
    "from tqdm.auto import tqdm\n",
    "\n",
    "from src.test_config import create_batched_test_one_stage_supplier_network\n",
    "from src.batched_base_config import create_batched_base_supplier_network\n",
    "from src.env.batched_env import MaxDStrategy, DefaultStrategy, NearestSufficientChangeDStrategy\n",
    "from src.model_zoo.my_ppo.ppo import ppo\n",
    "from src.model_zoo.my_ppo.actor_critic_models.mlp_actor_critic import MLPActorCriticFabric\n"
   ]
  },
  {
   "cell_type": "code",
   "execution_count": 2,
   "id": "96f85d42-3431-4a0d-97bd-cae92043ceba",
   "metadata": {},
   "outputs": [
    {
     "data": {
      "application/vnd.jupyter.widget-view+json": {
       "model_id": "9c91af0e02714aa6920874a80c0c22c2",
       "version_major": 2,
       "version_minor": 0
      },
      "text/plain": [
       "  0%|          | 0/32 [00:00<?, ?it/s]"
      ]
     },
     "metadata": {},
     "output_type": "display_data"
    },
    {
     "name": "stderr",
     "output_type": "stream",
     "text": [
      "\u001b[34m\u001b[1mwandb\u001b[0m: Currently logged in as: \u001b[33mvjlad\u001b[0m (\u001b[33mvaloebi\u001b[0m). Use \u001b[1m`wandb login --relogin`\u001b[0m to force relogin\n"
     ]
    },
    {
     "data": {
      "text/html": [
       "wandb version 0.16.2 is available!  To upgrade, please run:\n",
       " $ pip install wandb --upgrade"
      ],
      "text/plain": [
       "<IPython.core.display.HTML object>"
      ]
     },
     "metadata": {},
     "output_type": "display_data"
    },
    {
     "data": {
      "text/html": [
       "Tracking run with wandb version 0.16.1"
      ],
      "text/plain": [
       "<IPython.core.display.HTML object>"
      ]
     },
     "metadata": {},
     "output_type": "display_data"
    },
    {
     "data": {
      "text/html": [
       "Run data is saved locally in <code>D:\\maga\\transportation_problem\\wandb\\run-20240121_135004-b68yb804</code>"
      ],
      "text/plain": [
       "<IPython.core.display.HTML object>"
      ]
     },
     "metadata": {},
     "output_type": "display_data"
    },
    {
     "data": {
      "text/html": [
       "Syncing run <strong><a href='https://wandb.ai/valoebi/transp-env-ppo/runs/b68yb804' target=\"_blank\">comfy-sponge-153</a></strong> to <a href='https://wandb.ai/valoebi/transp-env-ppo' target=\"_blank\">Weights & Biases</a> (<a href='https://wandb.me/run' target=\"_blank\">docs</a>)<br/>"
      ],
      "text/plain": [
       "<IPython.core.display.HTML object>"
      ]
     },
     "metadata": {},
     "output_type": "display_data"
    },
    {
     "data": {
      "text/html": [
       " View project at <a href='https://wandb.ai/valoebi/transp-env-ppo' target=\"_blank\">https://wandb.ai/valoebi/transp-env-ppo</a>"
      ],
      "text/plain": [
       "<IPython.core.display.HTML object>"
      ]
     },
     "metadata": {},
     "output_type": "display_data"
    },
    {
     "data": {
      "text/html": [
       " View run at <a href='https://wandb.ai/valoebi/transp-env-ppo/runs/b68yb804' target=\"_blank\">https://wandb.ai/valoebi/transp-env-ppo/runs/b68yb804</a>"
      ],
      "text/plain": [
       "<IPython.core.display.HTML object>"
      ]
     },
     "metadata": {},
     "output_type": "display_data"
    },
    {
     "data": {
      "application/vnd.jupyter.widget-view+json": {
       "model_id": "ae28791385744f2baf1044cbb87f6a6e",
       "version_major": 2,
       "version_minor": 0
      },
      "text/plain": [
       "pi_iter:   0%|          | 0/30 [00:00<?, ?it/s]"
      ]
     },
     "metadata": {},
     "output_type": "display_data"
    },
    {
     "data": {
      "application/vnd.jupyter.widget-view+json": {
       "model_id": "fe420ace75b146b5adc067133a2c6eda",
       "version_major": 2,
       "version_minor": 0
      },
      "text/plain": [
       "v_iter:   0%|          | 0/20 [00:00<?, ?it/s]"
      ]
     },
     "metadata": {},
     "output_type": "display_data"
    },
    {
     "data": {
      "application/vnd.jupyter.widget-view+json": {
       "model_id": "a3f0dcb0b6bc40a18beef4b3f18dc7d2",
       "version_major": 2,
       "version_minor": 0
      },
      "text/plain": [
       "playing:   0%|          | 0/16000 [00:00<?, ?it/s]"
      ]
     },
     "metadata": {},
     "output_type": "display_data"
    },
    {
     "data": {
      "application/vnd.jupyter.widget-view+json": {
       "model_id": "c92b5a6a3d694ec7bccadbaddfd24b7e",
       "version_major": 2,
       "version_minor": 0
      },
      "text/plain": [
       "epoch:   0%|          | 0/500 [00:00<?, ?it/s]"
      ]
     },
     "metadata": {},
     "output_type": "display_data"
    },
    {
     "name": "stderr",
     "output_type": "stream",
     "text": [
      "Traceback (most recent call last):\n",
      "  File \"D:\\maga\\transportation_problem\\src\\model_zoo\\my_ppo\\ppo.py\", line 189, in ppo\n",
      "    update()\n",
      "  File \"D:\\maga\\transportation_problem\\src\\model_zoo\\my_ppo\\ppo.py\", line 159, in update\n",
      "    LossV=loss_v.item(),\n",
      "KeyboardInterrupt\n"
     ]
    },
    {
     "data": {
      "application/vnd.jupyter.widget-view+json": {
       "model_id": "",
       "version_major": 2,
       "version_minor": 0
      },
      "text/plain": [
       "VBox(children=(Label(value='0.001 MB of 0.001 MB uploaded\\r'), FloatProgress(value=1.0, max=1.0)))"
      ]
     },
     "metadata": {},
     "output_type": "display_data"
    },
    {
     "data": {
      "text/html": [
       "<style>\n",
       "    table.wandb td:nth-child(1) { padding: 0 10px; text-align: left ; width: auto;} td:nth-child(2) {text-align: left ; width: 100%}\n",
       "    .wandb-row { display: flex; flex-direction: row; flex-wrap: wrap; justify-content: flex-start; width: 100% }\n",
       "    .wandb-col { display: flex; flex-direction: column; flex-basis: 100%; flex: 1; padding: 10px; }\n",
       "    </style>\n",
       "<div class=\"wandb-row\"><div class=\"wandb-col\"><h3>Run history:</h3><br/><table class=\"wandb\"><tr><td>ClipFrac</td><td>▁▅▁▅▁▂▅▂▄▂▃▃▃▃▄▁▄▃▄▁▄▁▅▅▆▅▇▄▆▂█▁▆▄▅▁▆▄▁▅</td></tr><tr><td>Entropy</td><td>██▆▅▄▄▃▃▃▂▂▂▂▂▂▂▂▂▂▂▃▃▃▃▂▂▂▂▂▂▂▂▂▂▂▂▁▁▁▁</td></tr><tr><td>EpLen_Max</td><td>█▆█▆▆▆▃▃▃▃▃▃▃▃▃▆▃▃▃▃▃▃▃▃▁▁▁▃▃▃▃▁▁▁▁▁▃▃▃▆</td></tr><tr><td>EpLen_Mean</td><td>██▇▇▆▅▅▅▄▄▄▄▄▄▄▄▃▄▃▃▃▄▄▄▄▄▄▄▅▅▆▅▅▃▃▂▂▂▁▁</td></tr><tr><td>EpLen_Min</td><td>▁▁▁▁▁▁▁▁▁▁▁▁▁▁▁▁▁▁▁▁▁▁▁▁▁▁▁▁▁▁▁▁▁▁▁▁▁▁▁▁</td></tr><tr><td>EpLen_Std</td><td>██▇▇▇▇▇▆▆▆▆▆▆▆▆▆▆▆▆▆▆▆▆▆▆▆▆▆▆▆▆▆▆▅▅▄▃▃▂▁</td></tr><tr><td>EpRet_Max</td><td>▁▄▃▅█▇▄▇▇▇▇▆▇▅▆▄▆▆▅▄█▆▆▆▇▆██▆▅▅▅▆▆▆▆▆▆▆▆</td></tr><tr><td>EpRet_Mean</td><td>▁▁▃▄▄▅▆▆▆▆▆▆▇▇▇▇▇▇▇▇▇▇▇▇████████████████</td></tr><tr><td>EpRet_Min</td><td>▁▁▁▃▃▄▅▄▅▄▅▅▅▅▅▅▅▅▅▆▅▅▆▇▆▇▆▇▇▆█▇▇█▇██▇▇▇</td></tr><tr><td>EpRet_Std</td><td>██▇▇▇▆▅▅▅▄▄▄▄▄▄▄▃▃▃▃▃▃▂▂▂▂▁▂▁▁▁▁▁▁▁▁▁▁▂▂</td></tr><tr><td>Epoch</td><td>▁▁▁▁▂▂▂▂▂▃▃▃▃▃▃▄▄▄▄▄▅▅▅▅▅▅▆▆▆▆▆▆▇▇▇▇▇███</td></tr><tr><td>KL</td><td>▁▁▂▃▂▃▅▃▄▃▄▄▄▄▅▂▅▃▆▂▅▃▆▅█▅▇▄▆▃▆▂▆▄█▂▅▄▂▅</td></tr><tr><td>LossPi</td><td>▆▁█▃█▆▅▇▆▇▆▇▆▇▆█▇▇▇█▇█▇▇▆▇▆▇▇█▇█▇█▇█▇▇█▇</td></tr><tr><td>LossV</td><td>█▅▄▄▃▃▂▂▂▂▂▂▂▂▂▂▂▂▁▁▁▂▂▁▁▁▁▁▁▁▁▁▁▁▁▁▁▁▁▁</td></tr><tr><td>MaxKL</td><td>▁▁▁▁▁▁▁▁▁▁▁▁▁▁▁▁▁▁▁▁▁▁▁▁▁▁▁▁▁▁▁▁▁▁▁▁▁▁▁▁</td></tr><tr><td>StopIter</td><td>▁▁▁▁▁▁▁▁▁▁▁▁▁▁▁▁▁▁▁▁▁▁▁▁▁▁▁▁▁▁▁▁▁▁▁▁▁▁▁▁</td></tr><tr><td>TargetKL</td><td>▁▁▁▁▁▁▁▁▁▁▁▁▁▁▁▁▁▁▁▁▁▁▁▁▁▁▁▁▁▁▁▁▁▁▁▁▁▁▁▁</td></tr><tr><td>Time</td><td>▁▁▁▁▂▂▂▂▂▃▃▃▃▃▃▄▄▄▄▄▅▅▅▅▅▅▆▆▆▆▆▆▇▇▇▇▇███</td></tr><tr><td>TotalEnvInteracts</td><td>▁▁▁▁▂▂▂▂▂▃▃▃▃▃▃▄▄▄▄▄▅▅▅▅▅▅▆▆▆▆▆▆▇▇▇▇▇███</td></tr><tr><td>VVals_Max</td><td>█▅▄▄▃▃▃▃▃▂▂▂▂▂▂▂▂▂▂▂▂▂▂▂▂▂▂▂▂▂▂▂▁▁▂▁▂▁▁▁</td></tr><tr><td>VVals_Mean</td><td>█▆▅▄▄▄▄▃▃▃▃▃▃▃▃▂▂▂▂▂▂▂▂▂▂▂▂▂▂▂▂▂▂▂▂▂▂▁▁▁</td></tr><tr><td>VVals_Min</td><td>▁▅▇▇█▇▇██▇▇▇▇▇▇▇▇▆▆▅▅▅▆▅▇▅▆▇▆▇▇█▇▇▇▇▇▅▆▆</td></tr><tr><td>VVals_Std</td><td>█▅▂▂▁▁▁▁▁▁▁▁▁▁▁▁▁▁▁▁▁▁▁▁▁▁▁▁▁▁▁▁▁▁▁▁▁▁▁▁</td></tr></table><br/></div><div class=\"wandb-col\"><h3>Run summary:</h3><br/><table class=\"wandb\"><tr><td>ClipFrac</td><td>0.09275</td></tr><tr><td>Entropy</td><td>1.02686</td></tr><tr><td>EpLen_Max</td><td>10.0</td></tr><tr><td>EpLen_Mean</td><td>7.0395</td></tr><tr><td>EpLen_Min</td><td>7.0</td></tr><tr><td>EpLen_Std</td><td>0.2096</td></tr><tr><td>EpRet_Max</td><td>-9313.0</td></tr><tr><td>EpRet_Mean</td><td>-9475.49121</td></tr><tr><td>EpRet_Min</td><td>-9903.0</td></tr><tr><td>EpRet_Std</td><td>85.65045</td></tr><tr><td>Epoch</td><td>299</td></tr><tr><td>KL</td><td>0.01607</td></tr><tr><td>LossPi</td><td>-0.00482</td></tr><tr><td>LossV</td><td>3536600.5</td></tr><tr><td>MaxKL</td><td>0.03</td></tr><tr><td>StopIter</td><td>29</td></tr><tr><td>TargetKL</td><td>0.02</td></tr><tr><td>Time</td><td>16222.84493</td></tr><tr><td>TotalEnvInteracts</td><td>4800000</td></tr><tr><td>VVals_Max</td><td>-7307.16895</td></tr><tr><td>VVals_Mean</td><td>-7427.58545</td></tr><tr><td>VVals_Min</td><td>-7486.25537</td></tr><tr><td>VVals_Std</td><td>3.4641</td></tr></table><br/></div></div>"
      ],
      "text/plain": [
       "<IPython.core.display.HTML object>"
      ]
     },
     "metadata": {},
     "output_type": "display_data"
    },
    {
     "data": {
      "text/html": [
       " View run <strong style=\"color:#cdcd00\">comfy-sponge-153</strong> at: <a href='https://wandb.ai/valoebi/transp-env-ppo/runs/b68yb804' target=\"_blank\">https://wandb.ai/valoebi/transp-env-ppo/runs/b68yb804</a><br/>Synced 5 W&B file(s), 0 media file(s), 0 artifact file(s) and 0 other file(s)"
      ],
      "text/plain": [
       "<IPython.core.display.HTML object>"
      ]
     },
     "metadata": {},
     "output_type": "display_data"
    },
    {
     "data": {
      "text/html": [
       "Find logs at: <code>.\\wandb\\run-20240121_135004-b68yb804\\logs</code>"
      ],
      "text/plain": [
       "<IPython.core.display.HTML object>"
      ]
     },
     "metadata": {},
     "output_type": "display_data"
    },
    {
     "ename": "KeyboardInterrupt",
     "evalue": "",
     "output_type": "error",
     "traceback": [
      "\u001b[1;31m---------------------------------------------------------------------------\u001b[0m",
      "\u001b[1;31mKeyboardInterrupt\u001b[0m                         Traceback (most recent call last)",
      "Cell \u001b[1;32mIn[2], line 1\u001b[0m\n\u001b[1;32m----> 1\u001b[0m ac \u001b[38;5;241m=\u001b[39m \u001b[43mppo\u001b[49m\u001b[43m(\u001b[49m\n\u001b[0;32m      2\u001b[0m \u001b[43m    \u001b[49m\u001b[38;5;28;43;01mlambda\u001b[39;49;00m\u001b[43m \u001b[49m\u001b[43m:\u001b[49m\u001b[43m \u001b[49m\u001b[43mcreate_batched_base_supplier_network\u001b[49m\u001b[43m(\u001b[49m\u001b[38;5;241;43m500\u001b[39;49m\u001b[43m,\u001b[49m\u001b[43m \u001b[49m\u001b[43mMaxDStrategy\u001b[49m\u001b[43m(\u001b[49m\u001b[43m)\u001b[49m\u001b[43m,\u001b[49m\u001b[43m \u001b[49m\u001b[38;5;124;43m'\u001b[39;49m\u001b[38;5;124;43mcuda\u001b[39;49m\u001b[38;5;124;43m'\u001b[39;49m\u001b[43m)\u001b[49m\u001b[43m,\u001b[49m\n\u001b[0;32m      3\u001b[0m \u001b[43m    \u001b[49m\u001b[38;5;66;43;03m# create_batched_test_one_stage_supplier_network,\u001b[39;49;00m\n\u001b[0;32m      4\u001b[0m \u001b[43m    \u001b[49m\u001b[43mactor_critic\u001b[49m\u001b[38;5;241;43m=\u001b[39;49m\u001b[43mMLPActorCriticFabric\u001b[49m\u001b[43m(\u001b[49m\u001b[43m)\u001b[49m\u001b[43m,\u001b[49m\u001b[43m \u001b[49m\n\u001b[0;32m      5\u001b[0m \u001b[43m    \u001b[49m\u001b[43msteps_per_epoch\u001b[49m\u001b[38;5;241;43m=\u001b[39;49m\u001b[38;5;241;43m16000\u001b[39;49m\u001b[43m,\u001b[49m\u001b[43m \u001b[49m\n\u001b[0;32m      6\u001b[0m \u001b[43m    \u001b[49m\u001b[43mgamma\u001b[49m\u001b[38;5;241;43m=\u001b[39;49m\u001b[38;5;241;43m1.0\u001b[39;49m\u001b[43m,\u001b[49m\u001b[43m \u001b[49m\n\u001b[0;32m      7\u001b[0m \u001b[43m    \u001b[49m\u001b[43mclip_ratio\u001b[49m\u001b[38;5;241;43m=\u001b[39;49m\u001b[38;5;241;43m0.2\u001b[39;49m\u001b[43m,\u001b[49m\u001b[43m \u001b[49m\n\u001b[0;32m      8\u001b[0m \u001b[43m    \u001b[49m\u001b[43mtarget_kl\u001b[49m\u001b[38;5;241;43m=\u001b[39;49m\u001b[38;5;241;43m0.02\u001b[39;49m\u001b[43m,\u001b[49m\u001b[43m \u001b[49m\n\u001b[0;32m      9\u001b[0m \u001b[43m    \u001b[49m\u001b[43mpi_lr\u001b[49m\u001b[38;5;241;43m=\u001b[39;49m\u001b[38;5;241;43m1e-5\u001b[39;49m\u001b[43m,\u001b[49m\u001b[43m \u001b[49m\n\u001b[0;32m     10\u001b[0m \u001b[43m    \u001b[49m\u001b[43mvf_lr\u001b[49m\u001b[38;5;241;43m=\u001b[39;49m\u001b[38;5;241;43m5e-3\u001b[39;49m\u001b[43m,\u001b[49m\n\u001b[0;32m     11\u001b[0m \u001b[43m    \u001b[49m\u001b[43mtrain_pi_iters\u001b[49m\u001b[38;5;241;43m=\u001b[39;49m\u001b[38;5;241;43m30\u001b[39;49m\u001b[43m,\u001b[49m\u001b[43m \u001b[49m\n\u001b[0;32m     12\u001b[0m \u001b[43m    \u001b[49m\u001b[43mtrain_v_iters\u001b[49m\u001b[38;5;241;43m=\u001b[39;49m\u001b[38;5;241;43m20\u001b[39;49m\u001b[43m,\u001b[49m\u001b[43m \u001b[49m\n\u001b[0;32m     13\u001b[0m \u001b[43m    \u001b[49m\u001b[43mepochs\u001b[49m\u001b[38;5;241;43m=\u001b[39;49m\u001b[38;5;241;43m500\u001b[39;49m\u001b[43m,\u001b[49m\u001b[43m \u001b[49m\n\u001b[0;32m     14\u001b[0m \u001b[43m    \u001b[49m\u001b[43mlam\u001b[49m\u001b[38;5;241;43m=\u001b[39;49m\u001b[38;5;241;43m0.1\u001b[39;49m\u001b[43m,\u001b[49m\u001b[43m \u001b[49m\n\u001b[0;32m     15\u001b[0m \u001b[43m    \u001b[49m\u001b[43mdevice\u001b[49m\u001b[38;5;241;43m=\u001b[39;49m\u001b[38;5;124;43m'\u001b[39;49m\u001b[38;5;124;43mcuda\u001b[39;49m\u001b[38;5;124;43m'\u001b[39;49m\u001b[43m,\u001b[49m\n\u001b[0;32m     16\u001b[0m \u001b[43m)\u001b[49m\n",
      "File \u001b[1;32mD:\\maga\\transportation_problem\\src\\model_zoo\\my_ppo\\ppo.py:189\u001b[0m, in \u001b[0;36mppo\u001b[1;34m(env_fn, actor_critic, seed, steps_per_epoch, epochs, gamma, clip_ratio, pi_lr, vf_lr, train_pi_iters, train_v_iters, lam, max_ep_len, target_kl, device)\u001b[0m\n\u001b[0;32m    186\u001b[0m buf\u001b[38;5;241m.\u001b[39msample_new_trajectories(ac, tqdm_playing)\n\u001b[0;32m    188\u001b[0m \u001b[38;5;66;03m# Perform PPO update!\u001b[39;00m\n\u001b[1;32m--> 189\u001b[0m \u001b[43mupdate\u001b[49m\u001b[43m(\u001b[49m\u001b[43m)\u001b[49m\n\u001b[0;32m    191\u001b[0m \u001b[38;5;66;03m# Play greedy strategy with current policy for validation purposes\u001b[39;00m\n\u001b[0;32m    192\u001b[0m \u001b[38;5;66;03m# greedy_reward = greedy_validation()\u001b[39;00m\n\u001b[0;32m    193\u001b[0m \n\u001b[0;32m    194\u001b[0m \u001b[38;5;66;03m# Log info about epoch\u001b[39;00m\n\u001b[0;32m    195\u001b[0m epoch_aggregator\u001b[38;5;241m.\u001b[39mstore(Epoch\u001b[38;5;241m=\u001b[39mepoch)\n",
      "File \u001b[1;32mD:\\maga\\transportation_problem\\src\\model_zoo\\my_ppo\\ppo.py:159\u001b[0m, in \u001b[0;36mppo.<locals>.update\u001b[1;34m()\u001b[0m\n\u001b[0;32m    156\u001b[0m \u001b[38;5;66;03m# mpi_avg_grads(ac.v)  # average grads across MPI processes\u001b[39;00m\n\u001b[0;32m    157\u001b[0m vf_optimizer\u001b[38;5;241m.\u001b[39mstep()\n\u001b[0;32m    158\u001b[0m log_mem[i]\u001b[38;5;241m.\u001b[39mupdate(\u001b[38;5;28mdict\u001b[39m(\n\u001b[1;32m--> 159\u001b[0m     LossV\u001b[38;5;241m=\u001b[39m\u001b[43mloss_v\u001b[49m\u001b[38;5;241;43m.\u001b[39;49m\u001b[43mitem\u001b[49m\u001b[43m(\u001b[49m\u001b[43m)\u001b[49m,\n\u001b[0;32m    160\u001b[0m ))\n\u001b[0;32m    161\u001b[0m tqdm_train_v\u001b[38;5;241m.\u001b[39mupdate()\n",
      "\u001b[1;31mKeyboardInterrupt\u001b[0m: "
     ]
    }
   ],
   "source": [
    "ac = ppo(\n",
    "    lambda : create_batched_base_supplier_network(500, MaxDStrategy(), 'cuda'),\n",
    "    # create_batched_test_one_stage_supplier_network,\n",
    "    actor_critic=MLPActorCriticFabric(), \n",
    "    steps_per_epoch=16000, \n",
    "    gamma=1.0, \n",
    "    clip_ratio=0.1, \n",
    "    target_kl=0.01, \n",
    "    pi_lr=1e-5, \n",
    "    vf_lr=5e-3,\n",
    "    train_pi_iters=20, \n",
    "    train_v_iters=10, \n",
    "    epochs=500, \n",
    "    lam=0.1, \n",
    "    device='cuda',\n",
    ")"
   ]
  },
  {
   "cell_type": "code",
   "execution_count": 25,
   "id": "54cf01bc-96c1-408d-80b1-9ddd295d378b",
   "metadata": {},
   "outputs": [
    {
     "data": {
      "text/plain": [
       "2"
      ]
     },
     "execution_count": 25,
     "metadata": {},
     "output_type": "execute_result"
    }
   ],
   "source": [
    "len(create_batched_base_supplier_network(10, MaxDStrategy()).reset()['state'].keys())"
   ]
  },
  {
   "cell_type": "code",
   "execution_count": 20,
   "id": "5354442b-2c6d-463a-ac51-7c6c26e14605",
   "metadata": {},
   "outputs": [],
   "source": [
    "env = create_batched_base_supplier_network(20, MaxDStrategy())\n",
    "ac = MLPActorCriticFabric()(env)"
   ]
  },
  {
   "cell_type": "code",
   "execution_count": 18,
   "id": "27b574fa-7196-4d02-9f69-e8b400eb5f24",
   "metadata": {},
   "outputs": [
    {
     "data": {
      "text/plain": [
       "(tensor([516, 438, 281,  54, 513, 509,  61, 432, 353, 314]),\n",
       " tensor([-0.0432, -0.0432, -0.0432, -0.0432, -0.0432, -0.0432, -0.0432, -0.0432,\n",
       "         -0.0432, -0.0432]),\n",
       " tensor([-6.4003, -6.4369, -6.4792, -6.4997, -6.4535, -6.5182, -6.5120, -6.4478,\n",
       "         -6.4365, -6.4481]))"
      ]
     },
     "execution_count": 18,
     "metadata": {},
     "output_type": "execute_result"
    }
   ],
   "source": [
    "a, v, logp = ac.step(env.reset())\n",
    "a,v,logp"
   ]
  },
  {
   "cell_type": "code",
   "execution_count": 19,
   "id": "348003a7-7543-45ab-9c11-363f4a3fd9a5",
   "metadata": {},
   "outputs": [
    {
     "data": {
      "text/plain": [
       "(TensorDict(\n",
       "     fields={\n",
       "         state: TensorDict(\n",
       "             fields={\n",
       "                 0: Tensor(shape=torch.Size([10, 4, 3, 3]), device=cpu, dtype=torch.float32, is_shared=False),\n",
       "                 1: Tensor(shape=torch.Size([10, 3, 3, 6]), device=cpu, dtype=torch.float32, is_shared=False)},\n",
       "             batch_size=torch.Size([10]),\n",
       "             device=None,\n",
       "             is_shared=False),\n",
       "         valid_actions_mask: Tensor(shape=torch.Size([10, 4, 3, 3, 3, 6]), device=cpu, dtype=torch.bool, is_shared=False)},\n",
       "     batch_size=torch.Size([10]),\n",
       "     device=None,\n",
       "     is_shared=False),\n",
       " tensor([ -862.,  -744., -4351.,  -911.,  -715., -3087., -2186.,  -732., -4096.,\n",
       "          -780.]),\n",
       " tensor([False, False, False, False, False, False, False, False, False, False]))"
      ]
     },
     "execution_count": 19,
     "metadata": {},
     "output_type": "execute_result"
    }
   ],
   "source": [
    "new_s, r, done =  env.step(a)\n",
    "new_s, r, done"
   ]
  },
  {
   "cell_type": "code",
   "execution_count": 20,
   "id": "27d64834-a185-471a-832e-d58dcf2e7cbc",
   "metadata": {},
   "outputs": [
    {
     "data": {
      "text/plain": [
       "(tensor([209, 531, 152, 409, 208, 229,  40, 101, 580,  25]),\n",
       " tensor([-0.0711, -0.1535, -1.7211, -0.1031, -0.0744, -0.0923, -0.0495, -0.4188,\n",
       "         -1.8136,  0.0488]),\n",
       " tensor([-6.7919, -6.5528, -7.2161, -6.6751, -6.6455, -5.2973, -4.8860, -5.5772,\n",
       "         -3.8028, -6.1535]))"
      ]
     },
     "execution_count": 20,
     "metadata": {},
     "output_type": "execute_result"
    }
   ],
   "source": [
    "ac.step(new_s)"
   ]
  },
  {
   "cell_type": "code",
   "execution_count": 21,
   "id": "e6a42cdf-ba05-4e8a-961f-ee47953f2406",
   "metadata": {},
   "outputs": [],
   "source": [
    "y = env.reset()"
   ]
  },
  {
   "cell_type": "code",
   "execution_count": 22,
   "id": "9416b791-a52d-4c39-8a63-9bda9a996b4e",
   "metadata": {},
   "outputs": [
    {
     "data": {
      "text/plain": [
       "(10, 20)"
      ]
     },
     "execution_count": 22,
     "metadata": {},
     "output_type": "execute_result"
    }
   ],
   "source": [
    "len(x), len(y)"
   ]
  },
  {
   "cell_type": "code",
   "execution_count": 25,
   "id": "d4a04c55-d3d5-4c67-a125-3c24be58f511",
   "metadata": {},
   "outputs": [],
   "source": [
    "y[torch.arange(20) < 0] = x[torch.arange(10) < 0]"
   ]
  },
  {
   "cell_type": "code",
   "execution_count": 23,
   "id": "8cca3bab-4e29-43fa-aa9b-f01805e3b648",
   "metadata": {},
   "outputs": [
    {
     "data": {
      "text/plain": [
       "tensor([ True,  True,  True,  True,  True,  True,  True,  True,  True,  True,\n",
       "        False, False, False, False, False, False, False, False, False, False])"
      ]
     },
     "execution_count": 23,
     "metadata": {},
     "output_type": "execute_result"
    }
   ],
   "source": []
  },
  {
   "cell_type": "code",
   "execution_count": null,
   "id": "b6d8d59e-8c2e-4916-a0a5-e577751dc2f4",
   "metadata": {},
   "outputs": [],
   "source": []
  }
 ],
 "metadata": {
  "kernelspec": {
   "display_name": "Python 3 (ipykernel)",
   "language": "python",
   "name": "python3"
  },
  "language_info": {
   "codemirror_mode": {
    "name": "ipython",
    "version": 3
   },
   "file_extension": ".py",
   "mimetype": "text/x-python",
   "name": "python",
   "nbconvert_exporter": "python",
   "pygments_lexer": "ipython3",
   "version": "3.10.11"
  }
 },
 "nbformat": 4,
 "nbformat_minor": 5
}
