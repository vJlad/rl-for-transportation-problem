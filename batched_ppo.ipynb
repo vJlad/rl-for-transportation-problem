{
 "cells": [
  {
   "cell_type": "code",
   "execution_count": 1,
   "id": "f1ac7a99-9ced-4736-8460-cd614cc082e5",
   "metadata": {},
   "outputs": [],
   "source": [
    "%load_ext autoreload\n",
    "%autoreload 2\n",
    "\n",
    "import tensordict\n",
    "from tensordict import TensorDict\n",
    "import torch\n",
    "import torchrl\n",
    "\n",
    "from tqdm.auto import tqdm\n",
    "\n",
    "from src.test_config import create_batched_test_one_stage_supplier_network\n",
    "from src.batched_base_config import create_batched_base_supplier_network\n",
    "from src.batched_env.env_wrapper import MaxDStrategy, DefaultStrategy, NearestSufficientChangeDStrategy\n",
    "from src.model_zoo.my_ppo.ppo import ppo"
   ]
  },
  {
   "cell_type": "code",
   "execution_count": 2,
   "id": "9d9184e4-95e5-4ee9-b3f0-8128b04b8e52",
   "metadata": {},
   "outputs": [],
   "source": [
    "from src.model_zoo.my_ppo.actor_critic_models.mlp_actor_critic import MLPActorCriticFabric\n",
    "from src.model_zoo.my_ppo.actor_critic_models.mlp_w_additional_features import MLPwFActorCriticFabric"
   ]
  },
  {
   "cell_type": "code",
   "execution_count": 3,
   "id": "96f85d42-3431-4a0d-97bd-cae92043ceba",
   "metadata": {},
   "outputs": [
    {
     "data": {
      "application/vnd.jupyter.widget-view+json": {
       "model_id": "ac47ed749e224f62a1ca84a3be34de04",
       "version_major": 2,
       "version_minor": 0
      },
      "text/plain": [
       "  0%|          | 0/17 [00:00<?, ?it/s]"
      ]
     },
     "metadata": {},
     "output_type": "display_data"
    },
    {
     "name": "stderr",
     "output_type": "stream",
     "text": [
      "\u001b[34m\u001b[1mwandb\u001b[0m: Currently logged in as: \u001b[33mvjlad\u001b[0m (\u001b[33mvaloebi\u001b[0m). Use \u001b[1m`wandb login --relogin`\u001b[0m to force relogin\n"
     ]
    },
    {
     "data": {
      "text/html": [
       "wandb version 0.16.2 is available!  To upgrade, please run:\n",
       " $ pip install wandb --upgrade"
      ],
      "text/plain": [
       "<IPython.core.display.HTML object>"
      ]
     },
     "metadata": {},
     "output_type": "display_data"
    },
    {
     "data": {
      "text/html": [
       "Tracking run with wandb version 0.16.1"
      ],
      "text/plain": [
       "<IPython.core.display.HTML object>"
      ]
     },
     "metadata": {},
     "output_type": "display_data"
    },
    {
     "data": {
      "text/html": [
       "Run data is saved locally in <code>D:\\maga\\transportation_problem\\rl-for-transportation-problem\\wandb\\run-20240121_225303-y7momish</code>"
      ],
      "text/plain": [
       "<IPython.core.display.HTML object>"
      ]
     },
     "metadata": {},
     "output_type": "display_data"
    },
    {
     "data": {
      "text/html": [
       "Syncing run <strong><a href='https://wandb.ai/valoebi/transp-batched_env-ppo/runs/y7momish' target=\"_blank\">vital-disco-6</a></strong> to <a href='https://wandb.ai/valoebi/transp-batched_env-ppo' target=\"_blank\">Weights & Biases</a> (<a href='https://wandb.me/run' target=\"_blank\">docs</a>)<br/>"
      ],
      "text/plain": [
       "<IPython.core.display.HTML object>"
      ]
     },
     "metadata": {},
     "output_type": "display_data"
    },
    {
     "data": {
      "text/html": [
       " View project at <a href='https://wandb.ai/valoebi/transp-batched_env-ppo' target=\"_blank\">https://wandb.ai/valoebi/transp-batched_env-ppo</a>"
      ],
      "text/plain": [
       "<IPython.core.display.HTML object>"
      ]
     },
     "metadata": {},
     "output_type": "display_data"
    },
    {
     "data": {
      "text/html": [
       " View run at <a href='https://wandb.ai/valoebi/transp-batched_env-ppo/runs/y7momish' target=\"_blank\">https://wandb.ai/valoebi/transp-batched_env-ppo/runs/y7momish</a>"
      ],
      "text/plain": [
       "<IPython.core.display.HTML object>"
      ]
     },
     "metadata": {},
     "output_type": "display_data"
    },
    {
     "data": {
      "application/vnd.jupyter.widget-view+json": {
       "model_id": "83759d6409a94661ba4f404a043b082a",
       "version_major": 2,
       "version_minor": 0
      },
      "text/plain": [
       "pi_iter:   0%|          | 0/40 [00:00<?, ?it/s]"
      ]
     },
     "metadata": {},
     "output_type": "display_data"
    },
    {
     "data": {
      "application/vnd.jupyter.widget-view+json": {
       "model_id": "827c2d15fdb4414ea546b4e258c2aed9",
       "version_major": 2,
       "version_minor": 0
      },
      "text/plain": [
       "v_iter:   0%|          | 0/20 [00:00<?, ?it/s]"
      ]
     },
     "metadata": {},
     "output_type": "display_data"
    },
    {
     "data": {
      "application/vnd.jupyter.widget-view+json": {
       "model_id": "0a156a16135e4be9be5e85b97cfb7f6c",
       "version_major": 2,
       "version_minor": 0
      },
      "text/plain": [
       "playing:   0%|          | 0/17000 [00:00<?, ?it/s]"
      ]
     },
     "metadata": {},
     "output_type": "display_data"
    },
    {
     "data": {
      "application/vnd.jupyter.widget-view+json": {
       "model_id": "90271cc9d27b4c34a4744af321d3cd7a",
       "version_major": 2,
       "version_minor": 0
      },
      "text/plain": [
       "epoch:   0%|          | 0/500 [00:00<?, ?it/s]"
      ]
     },
     "metadata": {},
     "output_type": "display_data"
    },
    {
     "name": "stderr",
     "output_type": "stream",
     "text": [
      "Traceback (most recent call last):\n",
      "  File \"D:\\maga\\transportation_problem\\rl-for-transportation-problem\\src\\model_zoo\\my_ppo\\ppo.py\", line 183, in ppo\n",
      "    buf.sample_new_trajectories(ac, tqdm_playing)\n",
      "  File \"D:\\maga\\transportation_problem\\rl-for-transportation-problem\\src\\model_zoo\\my_ppo\\buffering.py\", line 126, in sample_new_trajectories\n",
      "    self.finalize_trajectory(tensor_ids, last_v, log_ep_ret)\n",
      "  File \"D:\\maga\\transportation_problem\\rl-for-transportation-problem\\src\\model_zoo\\my_ppo\\buffering.py\", line 89, in finalize_trajectory\n",
      "    self.ret_buf[path_slice] = discounted_cumsum_right(rews[None, ...], self.gamma)[0, :-1]\n",
      "  File \"D:\\maga\\.torch_env\\lib\\site-packages\\torch_discounted_cumsum\\discounted_cumsum.py\", line 120, in discounted_cumsum_right\n",
      "    gamma = torch.tensor(gamma).to(input)\n",
      "KeyboardInterrupt\n"
     ]
    },
    {
     "data": {
      "application/vnd.jupyter.widget-view+json": {
       "model_id": "",
       "version_major": 2,
       "version_minor": 0
      },
      "text/plain": [
       "VBox(children=(Label(value='0.001 MB of 0.001 MB uploaded\\r'), FloatProgress(value=1.0, max=1.0)))"
      ]
     },
     "metadata": {},
     "output_type": "display_data"
    },
    {
     "data": {
      "text/html": [
       "<style>\n",
       "    table.wandb td:nth-child(1) { padding: 0 10px; text-align: left ; width: auto;} td:nth-child(2) {text-align: left ; width: 100%}\n",
       "    .wandb-row { display: flex; flex-direction: row; flex-wrap: wrap; justify-content: flex-start; width: 100% }\n",
       "    .wandb-col { display: flex; flex-direction: column; flex-basis: 100%; flex: 1; padding: 10px; }\n",
       "    </style>\n",
       "<div class=\"wandb-row\"><div class=\"wandb-col\"><h3>Run history:</h3><br/><table class=\"wandb\"><tr><td>ClipFrac</td><td>██▅▇▇▅█▇▅▇▇▅▇▇▅▇▇▅▄▃▂▁▁▁▃▁▁▃▃▂▃▃▁▂▃▃▂▂▂▃</td></tr><tr><td>Entropy</td><td>████████▇▇▇▇▇▆▆▆▆▆▄▃▂▂▂▂▂▂▂▁▁▁▁▁▁▁▁▁▁▁▁▁</td></tr><tr><td>EpLen_Max</td><td>▅▅▅█▅█▅▅▁▁▁▅▁▅▁▁▁▁▁▁▁▁▁▁▅▁▅▁▁▁▁▅▁▅▅▁▅▅▁▁</td></tr><tr><td>EpLen_Mean</td><td>▁▁▂▄▅▆█▇▇▇▇▇▇▇▇▇▇▇▇▇▇▇▇▇▇▇▇▇▇▇▇▇▇▇▇▇▇▇▇▇</td></tr><tr><td>EpLen_Min</td><td>▁▁▁▁▁▁▁▁▁▁▁▁▁▁█████████████████▁█████▁██</td></tr><tr><td>EpLen_Std</td><td>████▇▇▆▄▃▂▁▂▁▁▁▂▁▂▁▁▁▁▁▁▂▁▂▁▁▁▁▁▁▁▁▁▁▁▁▁</td></tr><tr><td>EpRet_Max</td><td>▁▁▅▂▄▅█▇▇▆▆▅▄▄▅▆▅▅▃▃▅▃▅▄▅▄▄▆▅▅▆▅▇▅▅▅▄▄▄▄</td></tr><tr><td>EpRet_Mean</td><td>▁▁▂▂▃▄▆▆▇▇▇▇▇▇▇▇▇▇▇▇████████████████████</td></tr><tr><td>EpRet_Min</td><td>▁▁▁▁▁▃▃▅▄▇▆▇▆▇▆▆▇▆▇▆█▇▇▇█▆▆▇▇▇▇▇▇▆▇▆▇▆▇▇</td></tr><tr><td>EpRet_Std</td><td>█████▇▆▄▃▂▁▂▁▁▂▁▂▂▂▂▁▁▁▁▁▁▂▂▂▂▂▂▁▂▂▂▂▂▂▂</td></tr><tr><td>Epoch</td><td>▁▁▁▁▂▂▂▂▂▃▃▃▃▃▃▄▄▄▄▄▅▅▅▅▅▅▆▆▆▆▆▇▇▇▇▇▇███</td></tr><tr><td>KL</td><td>▂▂▅▅▅▄▄▃▄▁▁▄▁▃▅▄▇▇▇▇▇▆▇▆█▇▆██▇█▇▇▇▇▇▇███</td></tr><tr><td>LossPi</td><td>▁▁▄▂▂▄▂▂▄▂▃▄▂▃▄▂▃▄█▇▇█▇█▇▇█▇▇▇▇▇▇▇▇▇▇▇▇▇</td></tr><tr><td>LossV</td><td>█▇▆▆▄▃▂▂▁▁▁▁▁▁▁▁▁▁▁▁▁▁▁▁▁▁▁▁▁▁▁▁▁▁▁▁▁▁▁▁</td></tr><tr><td>MaxKL</td><td>▁▁▁▁▁▁▁▁▁▁▁▁▁▁▁▁▁▁▁▁▁▁▁▁▁▁▁▁▁▁▁▁▁▁▁▁▁▁▁▁</td></tr><tr><td>StopIter</td><td>█████▁▁▁▂▁▂▂▂▂▂▂▂▂▂▂▂▂▂▂▂▂▂▂▂▂▂▂▂▂▂▂▂▂▂▂</td></tr><tr><td>TargetKL</td><td>▁▁▁▁▁▁▁▁▁▁▁▁▁▁▁▁▁▁▁▁▁▁▁▁▁▁▁▁▁▁▁▁▁▁▁▁▁▁▁▁</td></tr><tr><td>Time</td><td>▁▁▁▁▂▂▂▂▂▃▃▃▃▃▃▄▄▄▄▄▅▅▅▅▅▅▆▆▆▆▆▇▇▇▇▇▇███</td></tr><tr><td>TotalEnvInteracts</td><td>▁▁▁▁▂▂▂▂▂▃▃▃▃▃▃▄▄▄▄▄▅▅▅▅▅▅▆▆▆▆▆▇▇▇▇▇▇███</td></tr><tr><td>VVals_Max</td><td>███▇▅▃▂▂▂▂▂▂▁▁▂▁▁▂▁▁▁▁▁▁▁▁▁▁▁▁▁▁▁▁▁▁▁▁▁▁</td></tr><tr><td>VVals_Mean</td><td>█▄▃▃▂▁▁▁▁▁▁▁▁▁▁▁▁▁▁▁▁▁▁▁▁▁▁▁▁▁▁▁▁▁▁▁▁▁▁▁</td></tr><tr><td>VVals_Min</td><td>█▁▁▁▁▁▂▂▂▂▂▂▂▂▂▂▂▂▂▂▂▂▂▃▃▃▂▃▂▃▃▃▃▂▃▃▂▃▃▃</td></tr><tr><td>VVals_Std</td><td>▂█▇▇▅▂▂▁▁▁▁▁▁▁▁▁▁▁▁▁▁▁▁▁▁▁▁▁▁▁▁▁▁▁▁▁▁▁▁▁</td></tr></table><br/></div><div class=\"wandb-col\"><h3>Run summary:</h3><br/><table class=\"wandb\"><tr><td>ClipFrac</td><td>0.19688</td></tr><tr><td>Entropy</td><td>1.62961</td></tr><tr><td>EpLen_Max</td><td>9.0</td></tr><tr><td>EpLen_Mean</td><td>8.005</td></tr><tr><td>EpLen_Min</td><td>8.0</td></tr><tr><td>EpLen_Std</td><td>0.07053</td></tr><tr><td>EpRet_Max</td><td>-9338.0</td></tr><tr><td>EpRet_Mean</td><td>-9582.75</td></tr><tr><td>EpRet_Min</td><td>-10510.0</td></tr><tr><td>EpRet_Std</td><td>152.23666</td></tr><tr><td>Epoch</td><td>206</td></tr><tr><td>KL</td><td>0.01517</td></tr><tr><td>LossPi</td><td>-0.00381</td></tr><tr><td>LossV</td><td>4149956.5</td></tr><tr><td>MaxKL</td><td>0.015</td></tr><tr><td>StopIter</td><td>5</td></tr><tr><td>TargetKL</td><td>0.01</td></tr><tr><td>Time</td><td>3870.49413</td></tr><tr><td>TotalEnvInteracts</td><td>3519000</td></tr><tr><td>VVals_Max</td><td>-6689.51758</td></tr><tr><td>VVals_Mean</td><td>-6988.7041</td></tr><tr><td>VVals_Min</td><td>-7218.38086</td></tr><tr><td>VVals_Std</td><td>12.96148</td></tr></table><br/></div></div>"
      ],
      "text/plain": [
       "<IPython.core.display.HTML object>"
      ]
     },
     "metadata": {},
     "output_type": "display_data"
    },
    {
     "data": {
      "text/html": [
       " View run <strong style=\"color:#cdcd00\">vital-disco-6</strong> at: <a href='https://wandb.ai/valoebi/transp-batched_env-ppo/runs/y7momish' target=\"_blank\">https://wandb.ai/valoebi/transp-batched_env-ppo/runs/y7momish</a><br/> View job at <a href='https://wandb.ai/valoebi/transp-batched_env-ppo/jobs/QXJ0aWZhY3RDb2xsZWN0aW9uOjEzMjQxNzI2MA==/version_details/v2' target=\"_blank\">https://wandb.ai/valoebi/transp-batched_env-ppo/jobs/QXJ0aWZhY3RDb2xsZWN0aW9uOjEzMjQxNzI2MA==/version_details/v2</a><br/>Synced 5 W&B file(s), 0 media file(s), 0 artifact file(s) and 0 other file(s)"
      ],
      "text/plain": [
       "<IPython.core.display.HTML object>"
      ]
     },
     "metadata": {},
     "output_type": "display_data"
    },
    {
     "data": {
      "text/html": [
       "Find logs at: <code>.\\wandb\\run-20240121_225303-y7momish\\logs</code>"
      ],
      "text/plain": [
       "<IPython.core.display.HTML object>"
      ]
     },
     "metadata": {},
     "output_type": "display_data"
    },
    {
     "ename": "KeyboardInterrupt",
     "evalue": "",
     "output_type": "error",
     "traceback": [
      "\u001b[1;31m---------------------------------------------------------------------------\u001b[0m",
      "\u001b[1;31mKeyboardInterrupt\u001b[0m                         Traceback (most recent call last)",
      "Cell \u001b[1;32mIn[3], line 1\u001b[0m\n\u001b[1;32m----> 1\u001b[0m ac \u001b[38;5;241m=\u001b[39m \u001b[43mppo\u001b[49m\u001b[43m(\u001b[49m\n\u001b[0;32m      2\u001b[0m \u001b[43m    \u001b[49m\u001b[38;5;28;43;01mlambda\u001b[39;49;00m\u001b[43m \u001b[49m\u001b[43m:\u001b[49m\u001b[43m \u001b[49m\u001b[43mcreate_batched_base_supplier_network\u001b[49m\u001b[43m(\u001b[49m\u001b[38;5;241;43m1000\u001b[39;49m\u001b[43m,\u001b[49m\u001b[43m \u001b[49m\u001b[43mMaxDStrategy\u001b[49m\u001b[43m(\u001b[49m\u001b[43m)\u001b[49m\u001b[43m,\u001b[49m\u001b[43m \u001b[49m\u001b[38;5;124;43m'\u001b[39;49m\u001b[38;5;124;43mcuda\u001b[39;49m\u001b[38;5;124;43m'\u001b[39;49m\u001b[43m)\u001b[49m\u001b[43m,\u001b[49m\n\u001b[0;32m      3\u001b[0m \u001b[43m    \u001b[49m\u001b[43mactor_critic\u001b[49m\u001b[38;5;241;43m=\u001b[39;49m\u001b[43mMLPwFActorCriticFabric\u001b[49m\u001b[43m(\u001b[49m\u001b[43m)\u001b[49m\u001b[43m,\u001b[49m\u001b[43m \u001b[49m\n\u001b[0;32m      4\u001b[0m \u001b[43m    \u001b[49m\u001b[43msteps_per_epoch\u001b[49m\u001b[38;5;241;43m=\u001b[39;49m\u001b[38;5;241;43m17000\u001b[39;49m\u001b[43m,\u001b[49m\u001b[43m \u001b[49m\n\u001b[0;32m      5\u001b[0m \u001b[43m    \u001b[49m\u001b[43mgamma\u001b[49m\u001b[38;5;241;43m=\u001b[39;49m\u001b[38;5;241;43m1.0\u001b[39;49m\u001b[43m,\u001b[49m\u001b[43m \u001b[49m\n\u001b[0;32m      6\u001b[0m \u001b[43m    \u001b[49m\u001b[43mclip_ratio\u001b[49m\u001b[38;5;241;43m=\u001b[39;49m\u001b[38;5;241;43m0.1\u001b[39;49m\u001b[43m,\u001b[49m\u001b[43m \u001b[49m\n\u001b[0;32m      7\u001b[0m \u001b[43m    \u001b[49m\u001b[43mtarget_kl\u001b[49m\u001b[38;5;241;43m=\u001b[39;49m\u001b[38;5;241;43m0.01\u001b[39;49m\u001b[43m,\u001b[49m\u001b[43m \u001b[49m\n\u001b[0;32m      8\u001b[0m \u001b[43m    \u001b[49m\u001b[43mpi_lr\u001b[49m\u001b[38;5;241;43m=\u001b[39;49m\u001b[38;5;241;43m1e-4\u001b[39;49m\u001b[43m,\u001b[49m\u001b[43m \u001b[49m\n\u001b[0;32m      9\u001b[0m \u001b[43m    \u001b[49m\u001b[43mvf_lr\u001b[49m\u001b[38;5;241;43m=\u001b[39;49m\u001b[38;5;241;43m5e-4\u001b[39;49m\u001b[43m,\u001b[49m\n\u001b[0;32m     10\u001b[0m \u001b[43m    \u001b[49m\u001b[43mtrain_pi_iters\u001b[49m\u001b[38;5;241;43m=\u001b[39;49m\u001b[38;5;241;43m40\u001b[39;49m\u001b[43m,\u001b[49m\u001b[43m \u001b[49m\n\u001b[0;32m     11\u001b[0m \u001b[43m    \u001b[49m\u001b[43mtrain_v_iters\u001b[49m\u001b[38;5;241;43m=\u001b[39;49m\u001b[38;5;241;43m20\u001b[39;49m\u001b[43m,\u001b[49m\u001b[43m \u001b[49m\n\u001b[0;32m     12\u001b[0m \u001b[43m    \u001b[49m\u001b[43mepochs\u001b[49m\u001b[38;5;241;43m=\u001b[39;49m\u001b[38;5;241;43m500\u001b[39;49m\u001b[43m,\u001b[49m\u001b[43m \u001b[49m\n\u001b[0;32m     13\u001b[0m \u001b[43m    \u001b[49m\u001b[43mlam\u001b[49m\u001b[38;5;241;43m=\u001b[39;49m\u001b[38;5;241;43m0.2\u001b[39;49m\u001b[43m,\u001b[49m\u001b[43m \u001b[49m\n\u001b[0;32m     14\u001b[0m \u001b[43m    \u001b[49m\u001b[43mdevice\u001b[49m\u001b[38;5;241;43m=\u001b[39;49m\u001b[38;5;124;43m'\u001b[39;49m\u001b[38;5;124;43mcuda\u001b[39;49m\u001b[38;5;124;43m'\u001b[39;49m\u001b[43m,\u001b[49m\n\u001b[0;32m     15\u001b[0m \u001b[43m)\u001b[49m\n",
      "File \u001b[1;32mD:\\maga\\transportation_problem\\rl-for-transportation-problem\\src\\model_zoo\\my_ppo\\ppo.py:183\u001b[0m, in \u001b[0;36mppo\u001b[1;34m(env_fn, actor_critic, seed, steps_per_epoch, epochs, gamma, clip_ratio, pi_lr, vf_lr, train_pi_iters, train_v_iters, lam, max_ep_len, target_kl, device)\u001b[0m\n\u001b[0;32m    180\u001b[0m log_mem \u001b[38;5;241m=\u001b[39m [{} \u001b[38;5;28;01mfor\u001b[39;00m _ \u001b[38;5;129;01min\u001b[39;00m \u001b[38;5;28mrange\u001b[39m(train_steps_per_epoch)]\n\u001b[0;32m    182\u001b[0m \u001b[38;5;66;03m# Fill buffer with current policy actions\u001b[39;00m\n\u001b[1;32m--> 183\u001b[0m \u001b[43mbuf\u001b[49m\u001b[38;5;241;43m.\u001b[39;49m\u001b[43msample_new_trajectories\u001b[49m\u001b[43m(\u001b[49m\u001b[43mac\u001b[49m\u001b[43m,\u001b[49m\u001b[43m \u001b[49m\u001b[43mtqdm_playing\u001b[49m\u001b[43m)\u001b[49m\n\u001b[0;32m    185\u001b[0m \u001b[38;5;66;03m# Perform PPO update!\u001b[39;00m\n\u001b[0;32m    186\u001b[0m update()\n",
      "File \u001b[1;32mD:\\maga\\transportation_problem\\rl-for-transportation-problem\\src\\model_zoo\\my_ppo\\buffering.py:126\u001b[0m, in \u001b[0;36mReplayBuffer.sample_new_trajectories\u001b[1;34m(self, actor_critic, tqdm_bar)\u001b[0m\n\u001b[0;32m    124\u001b[0m             log_ep_ret \u001b[38;5;241m=\u001b[39m \u001b[38;5;28;01mFalse\u001b[39;00m\n\u001b[0;32m    125\u001b[0m             dones[i] \u001b[38;5;241m=\u001b[39m \u001b[38;5;28;01mTrue\u001b[39;00m\n\u001b[1;32m--> 126\u001b[0m         \u001b[38;5;28;43mself\u001b[39;49m\u001b[38;5;241;43m.\u001b[39;49m\u001b[43mfinalize_trajectory\u001b[49m\u001b[43m(\u001b[49m\u001b[43mtensor_ids\u001b[49m\u001b[43m,\u001b[49m\u001b[43m \u001b[49m\u001b[43mlast_v\u001b[49m\u001b[43m,\u001b[49m\u001b[43m \u001b[49m\u001b[43mlog_ep_ret\u001b[49m\u001b[43m)\u001b[49m\n\u001b[0;32m    127\u001b[0m         traj\u001b[38;5;241m.\u001b[39mclear()\n\u001b[0;32m    128\u001b[0m cur_state \u001b[38;5;241m=\u001b[39m next_states\n",
      "File \u001b[1;32mD:\\maga\\transportation_problem\\rl-for-transportation-problem\\src\\model_zoo\\my_ppo\\buffering.py:89\u001b[0m, in \u001b[0;36mReplayBuffer.finalize_trajectory\u001b[1;34m(self, path_slice, last_val, is_full_path)\u001b[0m\n\u001b[0;32m     86\u001b[0m \u001b[38;5;28mself\u001b[39m\u001b[38;5;241m.\u001b[39madv_buf[path_slice] \u001b[38;5;241m=\u001b[39m discounted_cumsum_right(deltas[\u001b[38;5;28;01mNone\u001b[39;00m, \u001b[38;5;241m.\u001b[39m\u001b[38;5;241m.\u001b[39m\u001b[38;5;241m.\u001b[39m], \u001b[38;5;28mself\u001b[39m\u001b[38;5;241m.\u001b[39mgamma \u001b[38;5;241m*\u001b[39m \u001b[38;5;28mself\u001b[39m\u001b[38;5;241m.\u001b[39mlam)[\u001b[38;5;241m0\u001b[39m]\n\u001b[0;32m     88\u001b[0m \u001b[38;5;66;03m# the next line computes rewards-to-go, to be targets for the value function\u001b[39;00m\n\u001b[1;32m---> 89\u001b[0m \u001b[38;5;28mself\u001b[39m\u001b[38;5;241m.\u001b[39mret_buf[path_slice] \u001b[38;5;241m=\u001b[39m \u001b[43mdiscounted_cumsum_right\u001b[49m\u001b[43m(\u001b[49m\u001b[43mrews\u001b[49m\u001b[43m[\u001b[49m\u001b[38;5;28;43;01mNone\u001b[39;49;00m\u001b[43m,\u001b[49m\u001b[43m \u001b[49m\u001b[38;5;241;43m.\u001b[39;49m\u001b[38;5;241;43m.\u001b[39;49m\u001b[38;5;241;43m.\u001b[39;49m\u001b[43m]\u001b[49m\u001b[43m,\u001b[49m\u001b[43m \u001b[49m\u001b[38;5;28;43mself\u001b[39;49m\u001b[38;5;241;43m.\u001b[39;49m\u001b[43mgamma\u001b[49m\u001b[43m)\u001b[49m[\u001b[38;5;241m0\u001b[39m, :\u001b[38;5;241m-\u001b[39m\u001b[38;5;241m1\u001b[39m]\n",
      "File \u001b[1;32mD:\\maga\\.torch_env\\lib\\site-packages\\torch_discounted_cumsum\\discounted_cumsum.py:120\u001b[0m, in \u001b[0;36mdiscounted_cumsum_right\u001b[1;34m(input, gamma)\u001b[0m\n\u001b[0;32m    118\u001b[0m \u001b[38;5;28;01mdef\u001b[39;00m \u001b[38;5;21mdiscounted_cumsum_right\u001b[39m(\u001b[38;5;28minput\u001b[39m, gamma):\n\u001b[0;32m    119\u001b[0m     \u001b[38;5;28;01mif\u001b[39;00m \u001b[38;5;129;01mnot\u001b[39;00m torch\u001b[38;5;241m.\u001b[39mis_tensor(gamma):\n\u001b[1;32m--> 120\u001b[0m         gamma \u001b[38;5;241m=\u001b[39m \u001b[43mtorch\u001b[49m\u001b[38;5;241;43m.\u001b[39;49m\u001b[43mtensor\u001b[49m\u001b[43m(\u001b[49m\u001b[43mgamma\u001b[49m\u001b[43m)\u001b[49m\u001b[38;5;241;43m.\u001b[39;49m\u001b[43mto\u001b[49m\u001b[43m(\u001b[49m\u001b[38;5;28;43minput\u001b[39;49m\u001b[43m)\u001b[49m\n\u001b[0;32m    121\u001b[0m     \u001b[38;5;28;01mif\u001b[39;00m gamma\u001b[38;5;241m.\u001b[39mdim() \u001b[38;5;241m==\u001b[39m \u001b[38;5;241m0\u001b[39m:\n\u001b[0;32m    122\u001b[0m         gamma \u001b[38;5;241m=\u001b[39m gamma\u001b[38;5;241m.\u001b[39mreshape(\u001b[38;5;241m-\u001b[39m\u001b[38;5;241m1\u001b[39m)\n",
      "\u001b[1;31mKeyboardInterrupt\u001b[0m: "
     ]
    }
   ],
   "source": [
    "ac = ppo(\n",
    "    lambda : create_batched_base_supplier_network(1000, MaxDStrategy(), 'cuda'),\n",
    "    actor_critic=MLPwFActorCriticFabric(), \n",
    "    steps_per_epoch=17000, \n",
    "    gamma=1.0, \n",
    "    clip_ratio=0.1, \n",
    "    target_kl=0.01, \n",
    "    pi_lr=1e-4, \n",
    "    vf_lr=5e-4,\n",
    "    train_pi_iters=40, \n",
    "    train_v_iters=20, \n",
    "    epochs=500, \n",
    "    lam=0.2, \n",
    "    device='cuda',\n",
    ")"
   ]
  },
  {
   "cell_type": "code",
   "execution_count": 25,
   "id": "54cf01bc-96c1-408d-80b1-9ddd295d378b",
   "metadata": {},
   "outputs": [
    {
     "data": {
      "text/plain": [
       "2"
      ]
     },
     "execution_count": 25,
     "metadata": {},
     "output_type": "execute_result"
    }
   ],
   "source": [
    "len(create_batched_base_supplier_network(10, MaxDStrategy()).reset()['state'].keys())"
   ]
  },
  {
   "cell_type": "code",
   "execution_count": 4,
   "id": "5354442b-2c6d-463a-ac51-7c6c26e14605",
   "metadata": {},
   "outputs": [
    {
     "data": {
      "text/plain": [
       "ActorCritic(\n",
       "  (pi): Actor(\n",
       "    (model): MlpWithFeaturesModel(\n",
       "      (by_layer_models): ModuleList(\n",
       "        (0): Sequential(\n",
       "          (0): Flatten(start_dim=-3, end_dim=-1)\n",
       "          (1): FeatureExtractor()\n",
       "          (2): Linear(in_features=108, out_features=256, bias=True)\n",
       "          (3): LeakyReLU(negative_slope=0.01)\n",
       "          (4): Linear(in_features=256, out_features=256, bias=True)\n",
       "          (5): LeakyReLU(negative_slope=0.01)\n",
       "        )\n",
       "        (1): Sequential(\n",
       "          (0): Flatten(start_dim=-3, end_dim=-1)\n",
       "          (1): FeatureExtractor()\n",
       "          (2): Linear(in_features=162, out_features=256, bias=True)\n",
       "          (3): LeakyReLU(negative_slope=0.01)\n",
       "          (4): Linear(in_features=256, out_features=256, bias=True)\n",
       "          (5): LeakyReLU(negative_slope=0.01)\n",
       "        )\n",
       "      )\n",
       "      (joint_body): Sequential(\n",
       "        (0): Linear(in_features=512, out_features=512, bias=True)\n",
       "        (1): LeakyReLU(negative_slope=0.01)\n",
       "        (2): Linear(in_features=512, out_features=648, bias=True)\n",
       "      )\n",
       "    )\n",
       "  )\n",
       "  (v): MlpWithFeaturesModel(\n",
       "    (by_layer_models): ModuleList(\n",
       "      (0): Sequential(\n",
       "        (0): Flatten(start_dim=-3, end_dim=-1)\n",
       "        (1): FeatureExtractor()\n",
       "        (2): Linear(in_features=108, out_features=256, bias=True)\n",
       "        (3): LeakyReLU(negative_slope=0.01)\n",
       "        (4): Linear(in_features=256, out_features=256, bias=True)\n",
       "        (5): LeakyReLU(negative_slope=0.01)\n",
       "      )\n",
       "      (1): Sequential(\n",
       "        (0): Flatten(start_dim=-3, end_dim=-1)\n",
       "        (1): FeatureExtractor()\n",
       "        (2): Linear(in_features=162, out_features=256, bias=True)\n",
       "        (3): LeakyReLU(negative_slope=0.01)\n",
       "        (4): Linear(in_features=256, out_features=256, bias=True)\n",
       "        (5): LeakyReLU(negative_slope=0.01)\n",
       "      )\n",
       "    )\n",
       "    (joint_body): Sequential(\n",
       "      (0): Linear(in_features=512, out_features=512, bias=True)\n",
       "      (1): LeakyReLU(negative_slope=0.01)\n",
       "      (2): Linear(in_features=512, out_features=1, bias=True)\n",
       "    )\n",
       "  )\n",
       ")"
      ]
     },
     "execution_count": 4,
     "metadata": {},
     "output_type": "execute_result"
    }
   ],
   "source": [
    "env = create_batched_base_supplier_network(20, MaxDStrategy())\n",
    "MLPwFActorCriticFabric()(env)"
   ]
  },
  {
   "cell_type": "code",
   "execution_count": 18,
   "id": "27b574fa-7196-4d02-9f69-e8b400eb5f24",
   "metadata": {},
   "outputs": [
    {
     "data": {
      "text/plain": [
       "(tensor([516, 438, 281,  54, 513, 509,  61, 432, 353, 314]),\n",
       " tensor([-0.0432, -0.0432, -0.0432, -0.0432, -0.0432, -0.0432, -0.0432, -0.0432,\n",
       "         -0.0432, -0.0432]),\n",
       " tensor([-6.4003, -6.4369, -6.4792, -6.4997, -6.4535, -6.5182, -6.5120, -6.4478,\n",
       "         -6.4365, -6.4481]))"
      ]
     },
     "execution_count": 18,
     "metadata": {},
     "output_type": "execute_result"
    }
   ],
   "source": [
    "a, v, logp = ac.step(env.reset())\n",
    "a,v,logp"
   ]
  },
  {
   "cell_type": "code",
   "execution_count": 19,
   "id": "348003a7-7543-45ab-9c11-363f4a3fd9a5",
   "metadata": {},
   "outputs": [
    {
     "data": {
      "text/plain": [
       "(TensorDict(\n",
       "     fields={\n",
       "         state: TensorDict(\n",
       "             fields={\n",
       "                 0: Tensor(shape=torch.Size([10, 4, 3, 3]), device=cpu, dtype=torch.float32, is_shared=False),\n",
       "                 1: Tensor(shape=torch.Size([10, 3, 3, 6]), device=cpu, dtype=torch.float32, is_shared=False)},\n",
       "             batch_size=torch.Size([10]),\n",
       "             device=None,\n",
       "             is_shared=False),\n",
       "         valid_actions_mask: Tensor(shape=torch.Size([10, 4, 3, 3, 3, 6]), device=cpu, dtype=torch.bool, is_shared=False)},\n",
       "     batch_size=torch.Size([10]),\n",
       "     device=None,\n",
       "     is_shared=False),\n",
       " tensor([ -862.,  -744., -4351.,  -911.,  -715., -3087., -2186.,  -732., -4096.,\n",
       "          -780.]),\n",
       " tensor([False, False, False, False, False, False, False, False, False, False]))"
      ]
     },
     "execution_count": 19,
     "metadata": {},
     "output_type": "execute_result"
    }
   ],
   "source": [
    "new_s, r, done =  env.step(a)\n",
    "new_s, r, done"
   ]
  },
  {
   "cell_type": "code",
   "execution_count": 20,
   "id": "27d64834-a185-471a-832e-d58dcf2e7cbc",
   "metadata": {},
   "outputs": [
    {
     "data": {
      "text/plain": [
       "(tensor([209, 531, 152, 409, 208, 229,  40, 101, 580,  25]),\n",
       " tensor([-0.0711, -0.1535, -1.7211, -0.1031, -0.0744, -0.0923, -0.0495, -0.4188,\n",
       "         -1.8136,  0.0488]),\n",
       " tensor([-6.7919, -6.5528, -7.2161, -6.6751, -6.6455, -5.2973, -4.8860, -5.5772,\n",
       "         -3.8028, -6.1535]))"
      ]
     },
     "execution_count": 20,
     "metadata": {},
     "output_type": "execute_result"
    }
   ],
   "source": [
    "ac.step(new_s)"
   ]
  },
  {
   "cell_type": "code",
   "execution_count": 21,
   "id": "e6a42cdf-ba05-4e8a-961f-ee47953f2406",
   "metadata": {},
   "outputs": [],
   "source": [
    "y = env.reset()"
   ]
  },
  {
   "cell_type": "code",
   "execution_count": 22,
   "id": "9416b791-a52d-4c39-8a63-9bda9a996b4e",
   "metadata": {},
   "outputs": [
    {
     "data": {
      "text/plain": [
       "(10, 20)"
      ]
     },
     "execution_count": 22,
     "metadata": {},
     "output_type": "execute_result"
    }
   ],
   "source": [
    "len(x), len(y)"
   ]
  },
  {
   "cell_type": "code",
   "execution_count": 25,
   "id": "d4a04c55-d3d5-4c67-a125-3c24be58f511",
   "metadata": {},
   "outputs": [],
   "source": [
    "y[torch.arange(20) < 0] = x[torch.arange(10) < 0]"
   ]
  },
  {
   "cell_type": "code",
   "execution_count": 23,
   "id": "8cca3bab-4e29-43fa-aa9b-f01805e3b648",
   "metadata": {},
   "outputs": [
    {
     "data": {
      "text/plain": [
       "tensor([ True,  True,  True,  True,  True,  True,  True,  True,  True,  True,\n",
       "        False, False, False, False, False, False, False, False, False, False])"
      ]
     },
     "execution_count": 23,
     "metadata": {},
     "output_type": "execute_result"
    }
   ],
   "source": []
  },
  {
   "cell_type": "code",
   "execution_count": null,
   "id": "b6d8d59e-8c2e-4916-a0a5-e577751dc2f4",
   "metadata": {},
   "outputs": [],
   "source": []
  }
 ],
 "metadata": {
  "kernelspec": {
   "display_name": "Python 3 (ipykernel)",
   "language": "python",
   "name": "python3"
  },
  "language_info": {
   "codemirror_mode": {
    "name": "ipython",
    "version": 3
   },
   "file_extension": ".py",
   "mimetype": "text/x-python",
   "name": "python",
   "nbconvert_exporter": "python",
   "pygments_lexer": "ipython3",
   "version": "3.10.11"
  }
 },
 "nbformat": 4,
 "nbformat_minor": 5
}
